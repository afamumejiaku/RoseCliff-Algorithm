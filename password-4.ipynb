{
 "cells": [
  {
   "cell_type": "code",
   "execution_count": 1,
   "id": "b1b879ad",
   "metadata": {},
   "outputs": [],
   "source": [
    "#pip install pycryptodome"
   ]
  },
  {
   "cell_type": "code",
   "execution_count": 2,
   "id": "4bee6d0e",
   "metadata": {},
   "outputs": [],
   "source": [
    "import math\n",
    "import numpy\n",
    "def atkin(nmax):\n",
    "    \"\"\"\n",
    "    Returns a list of prime numbers below the number \"nmax\"\n",
    "    \"\"\"\n",
    "    is_prime = dict([(i, False) for i in range(5, nmax+1)])\n",
    "    for x in range(1, int(math.sqrt(nmax))+1):\n",
    "        for y in range(1, int(math.sqrt(nmax))+1):\n",
    "            n = 4*x**2 + y**2\n",
    "            if (n <= nmax) and ((n % 12 == 1) or (n % 12 == 5)):\n",
    "                is_prime[n] = not is_prime[n]\n",
    "            n = 3*x**2 + y**2\n",
    "            if (n <= nmax) and (n % 12 == 7):\n",
    "                is_prime[n] = not is_prime[n]\n",
    "            n = 3*x**2 - y**2\n",
    "            if (x > y) and (n <= nmax) and (n % 12 == 11):\n",
    "                is_prime[n] = not is_prime[n]\n",
    "    for n in range(5, int(math.sqrt(nmax))+1):\n",
    "        if is_prime[n]:\n",
    "            ik = 1\n",
    "            while (ik * n**2 <= nmax):\n",
    "                is_prime[ik * n**2] = False\n",
    "                ik += 1\n",
    "    primes = []\n",
    "    for i in range(nmax + 1):\n",
    "        if i in [0, 1, 4]: pass\n",
    "        elif i in [2,3] or is_prime[i]: primes.append(i)\n",
    "        else: pass\n",
    "    return primes\n",
    "\n"
   ]
  },
  {
   "cell_type": "code",
   "execution_count": 3,
   "id": "c1120f86",
   "metadata": {},
   "outputs": [],
   "source": [
    "# Python3 program to find primitive root of a given number n \n",
    "from math import sqrt\n",
    "\n",
    "# Returns True if n is prime \n",
    "def isPrime( n): \n",
    "\n",
    "\t# Corner cases \n",
    "\tif (n <= 1):\n",
    "\t\treturn False\n",
    "\tif (n <= 3):\n",
    "\t\treturn True\n",
    "\n",
    "\t# This is checked so that we can skip \n",
    "\t# middle five numbers in below loop \n",
    "\tif (n % 2 == 0 or n % 3 == 0):\n",
    "\t\treturn False\n",
    "\ti = 5\n",
    "\twhile(i * i <= n):\n",
    "\t\tif (n % i == 0 or n % (i + 2) == 0) :\n",
    "\t\t\treturn False\n",
    "\t\ti = i + 6\n",
    "\n",
    "\treturn True\n",
    "\n",
    "\"\"\" Iterative Function to calculate (x^n)%p in O(logy) */\"\"\"\n",
    "def power( x, y, p): \n",
    "\n",
    "\tres = 1 # Initialize result \n",
    "\n",
    "\tx = x % p # Update x if it is more \n",
    "\t\t\t# than or equal to p \n",
    "\n",
    "\twhile (y > 0): # If y is odd, multiply x with result \n",
    "\t\tif (y & 1):\n",
    "\t\t\tres = (res * x) % p \n",
    "\t\t# y must be even now \n",
    "\t\ty = y >> 1 # y = y/2 \n",
    "\t\tx = (x * x) % p \n",
    "\treturn res \n",
    "\n",
    "# Utility function to store prime\n",
    "# factors of a number \n",
    "def findPrimefactors(s, n) :\n",
    "\n",
    "\t# Print the number of 2s that divide n \n",
    "\twhile (n % 2 == 0) :\n",
    "\t\ts.add(2) \n",
    "\t\tn = n // 2\n",
    "\n",
    "\t# n must be odd at this point. So we can \n",
    "\t# skip one element (Note i = i +2) \n",
    "\tfor i in range(3, int(sqrt(n)), 2):\n",
    "\t\t\n",
    "\t\t# While i divides n, print i and divide n \n",
    "\t\twhile (n % i == 0) :\n",
    "\n",
    "\t\t\ts.add(i) \n",
    "\t\t\tn = n // i \n",
    "\t\t\n",
    "\t# This condition is to handle the case \n",
    "\t# when n is a prime number greater than 2 \n",
    "\tif (n > 2) :\n",
    "\t\ts.add(n) \n",
    "\n",
    "# Function to find smallest primitive \n",
    "# root of n \n",
    "def findPrimitive( n) :\n",
    "\ts = set() \n",
    "\n",
    "\t# Check if n is prime or not \n",
    "\t#if (isPrime(n) == False): \n",
    "\t#\treturn -1\n",
    "\n",
    "\t# Find value of Euler Totient function \n",
    "\t# of n. Since n is a prime number, the \n",
    "\t# value of Euler Totient function is n-1 \n",
    "\t# as there are n-1 relatively prime numbers.\n",
    "\tphi = n - 1\n",
    "\n",
    "\t# Find prime factors of phi and store in a set \n",
    "\tfindPrimefactors(s, phi) \n",
    "\n",
    "\t# Check for every number from 2 to phi \n",
    "\tfor r in range(2, phi + 1): \n",
    "\n",
    "\t\t# Iterate through all prime factors of phi. \n",
    "\t\t# and check if we found a power with value 1 \n",
    "\t\tflag = False\n",
    "\t\tfor it in s: \n",
    "\n",
    "\t\t\t# Check if r^((phi)/primefactors)\n",
    "\t\t\t# mod n is 1 or not \n",
    "\t\t\tif (power(r, phi // it, n) == 1): \n",
    "\n",
    "\t\t\t\tflag = True\n",
    "\t\t\t\tbreak\n",
    "\t\t\t\n",
    "\t\t# If there was no power with value 1. \n",
    "\t\tif (flag == False):\n",
    "\t\t\treturn r \n",
    "\t# If no primitive root found \n",
    "\treturn -1"
   ]
  },
  {
   "cell_type": "code",
   "execution_count": 4,
   "id": "4041f9be",
   "metadata": {},
   "outputs": [],
   "source": [
    "def Split():\n",
    "    password = input('Please Enter your password : ')\n",
    "    NumText = ''\n",
    "    IndexText = []\n",
    "    PassText = ''\n",
    "    count = 0\n",
    "    for char in password:\n",
    "        try:\n",
    "            a = int(char)\n",
    "            NumText = NumText + str(a)\n",
    "            IndexText.append(count)\n",
    "        except:\n",
    "            PassText += char\n",
    "        count +=1 \n",
    "    return(NumText,IndexText,PassText,password)"
   ]
  },
  {
   "cell_type": "code",
   "execution_count": 5,
   "id": "40a64c77",
   "metadata": {},
   "outputs": [],
   "source": [
    "global start\n",
    "start = 0\n",
    "def Prime_PrimitivePrime(start):\n",
    "    import numpy as np\n",
    "    if(start == 0):\n",
    "        primeNumbers = atkin(100000000)\n",
    "    start += 1\n",
    "    selected_Primes = primeNumbers[-1000000:-1] #selected prime numbers\n",
    "    randomNo = np.random.randint(0,999999)\n",
    "    prime = selected_Primes[randomNo]\n",
    "    PrimitivePrime = findPrimitive(prime)\n",
    "    return(prime,PrimitivePrime)"
   ]
  },
  {
   "cell_type": "code",
   "execution_count": 6,
   "id": "f31391aa",
   "metadata": {},
   "outputs": [],
   "source": [
    "def secretNum():\n",
    "    import numpy as np\n",
    "    secretNo = np.random.randint(10000000,99999999)\n",
    "    return(secretNo)"
   ]
  },
  {
   "cell_type": "code",
   "execution_count": 7,
   "id": "ca1ce7f3",
   "metadata": {},
   "outputs": [],
   "source": [
    "def hexText(HexNum,IndexText):\n",
    "    original = ['a','b','c','d','e','f']\n",
    "    hashing = ['e','t','a', 'i', 'o', 'n', 's', 'h', 'r']\n",
    "    Hash = str(abs(hash(tuple(IndexText))))\n",
    "    count = 0\n",
    "    HexText = ''\n",
    "    for tex in range(len(HexNum)):\n",
    "        if HexNum[tex] in original:\n",
    "            value = ((original.index(HexNum[tex])+int(Hash[count])))%9\n",
    "            count +=  1\n",
    "            HexText += hashing[value]\n",
    "        else:\n",
    "            HexText +=HexNum[tex]\n",
    "    return(HexText)"
   ]
  },
  {
   "cell_type": "code",
   "execution_count": 8,
   "id": "f84410c4",
   "metadata": {},
   "outputs": [],
   "source": [
    "def mergeText(password,HexText):\n",
    "    Merge_Text = ''\n",
    "    count = 0\n",
    "    for char in password:\n",
    "        try:\n",
    "            int(char)\n",
    "            Merge_Text+= HexText[count]\n",
    "            count+=1\n",
    "        except:\n",
    "            Merge_Text+=char\n",
    "    Merge_Text+= '-' + HexText[count:]\n",
    "    return(Merge_Text)"
   ]
  },
  {
   "cell_type": "code",
   "execution_count": 9,
   "id": "3ffb8113",
   "metadata": {},
   "outputs": [],
   "source": [
    "from Crypto.Cipher import AES\n",
    "import binascii, os\n",
    "secretKey = os.urandom(32)  # 256-bit random encryption key\n",
    "#print(\"Encryption key:\", binascii.hexlify(secretKey))\n",
    "def encrypt_AES_GCM(msg, secretKey=secretKey):\n",
    "    aesCipher = AES.new(secretKey, AES.MODE_GCM)\n",
    "    ciphertext, authTag = aesCipher.encrypt_and_digest(msg)\n",
    "    return (ciphertext, aesCipher.nonce, authTag)\n",
    "\n",
    "def decrypt_AES_GCM(encryptedMsg, secretKey=secretKey):\n",
    "    (ciphertext, nonce, authTag) = encryptedMsg\n",
    "    aesCipher = AES.new(secretKey, AES.MODE_GCM, nonce)\n",
    "    plaintext = aesCipher.decrypt_and_verify(ciphertext, authTag)\n",
    "    return plaintext"
   ]
  },
  {
   "cell_type": "code",
   "execution_count": 10,
   "id": "84dac26a",
   "metadata": {},
   "outputs": [],
   "source": [
    "def Hex_Pass(BytePassword,IndexText):\n",
    "    HexText = ''\n",
    "    PassText = ''\n",
    "    indexTextPos = 0\n",
    "    Enc_Password = BytePassword.decode()\n",
    "    StrPassword, EndPassword = Enc_Password.split('-')\n",
    "    for pos in range(len(StrPassword)):\n",
    "        if(pos==IndexText[indexTextPos]):\n",
    "            HexText += StrPassword[pos]\n",
    "            if(indexTextPos<(len(IndexText)-1)):\n",
    "                indexTextPos += 1\n",
    "        else:\n",
    "            PassText += StrPassword[pos]\n",
    "    HexText+=EndPassword\n",
    "    return(HexText,PassText)                 "
   ]
  },
  {
   "cell_type": "code",
   "execution_count": 11,
   "id": "e2e640b5",
   "metadata": {},
   "outputs": [],
   "source": [
    "def hexNum(HexText,IndexText):\n",
    "    original = ['a','b','c','d','e','f']\n",
    "    hashing = ['e','t','a', 'i', 'o', 'n', 's', 'h', 'r']\n",
    "    Hash = str(abs(hash(tuple(IndexText))))\n",
    "    count = 0\n",
    "    HexNum = ''\n",
    "    for tex in range(len(HexText)):\n",
    "        if HexText[tex] in hashing:\n",
    "            value = (hashing.index(HexText[tex])-int(Hash[count]))\n",
    "            if(value<0):\n",
    "                value = value + 9\n",
    "            count +=  1\n",
    "            HexNum  += original[value] \n",
    "        else:\n",
    "            HexNum +=HexText[tex]\n",
    "    return(HexNum) "
   ]
  },
  {
   "cell_type": "markdown",
   "id": "26e9bd73",
   "metadata": {},
   "source": [
    "## Split Text"
   ]
  },
  {
   "cell_type": "code",
   "execution_count": 12,
   "id": "10df45cd",
   "metadata": {},
   "outputs": [
    {
     "name": "stdout",
     "output_type": "stream",
     "text": [
      "Please Enter your password : 59Mon34key23\n",
      "NumText : 593423 \n",
      "IndexText : [0, 1, 5, 6, 10, 11]  \n",
      "PassText : Monkey\n"
     ]
    }
   ],
   "source": [
    "##Client Side\n",
    "NumText,IndexText,PassText,password = Split()\n",
    "print(f\"NumText : {NumText} \\nIndexText : {IndexText}  \\nPassText : {PassText}\")"
   ]
  },
  {
   "cell_type": "markdown",
   "id": "62e63523",
   "metadata": {},
   "source": [
    "## Randomizer"
   ]
  },
  {
   "cell_type": "code",
   "execution_count": 13,
   "id": "0b1aa3d6",
   "metadata": {},
   "outputs": [],
   "source": [
    "#Server Side  \n",
    "prime,PrimitivePrime = Prime_PrimitivePrime(start)\n",
    "secretNo = secretNum()\n",
    "server = (PrimitivePrime**int(secretNo))%prime\n",
    "cipText = (server**int(NumText))%prime\n",
    "#Server Side shares with Client open the prime, PrimitivePrime and server"
   ]
  },
  {
   "cell_type": "code",
   "execution_count": 14,
   "id": "cef55b8a",
   "metadata": {},
   "outputs": [
    {
     "name": "stdout",
     "output_type": "stream",
     "text": [
      "secretNo: 69567449 \n",
      "cipText : 41133565 \n",
      "HexNum : 273a5fd \n",
      "HexText : 273n5ho\n"
     ]
    }
   ],
   "source": [
    "##Client Side\n",
    "client = (PrimitivePrime**int(NumText))%prime\n",
    "cipText = (server**int(NumText))%prime\n",
    "HexNum = hex(cipText)[2:]\n",
    "HexText = hexText(HexNum,IndexText)\n",
    "print(f\"secretNo: {secretNo} \\ncipText : {cipText} \\nHexNum : {HexNum} \\nHexText : {HexText}\")"
   ]
  },
  {
   "cell_type": "markdown",
   "id": "fd743c16",
   "metadata": {},
   "source": [
    "##  Dynamic Password ciphertext generation"
   ]
  },
  {
   "cell_type": "code",
   "execution_count": 15,
   "id": "f57a93ce",
   "metadata": {},
   "outputs": [
    {
     "name": "stdout",
     "output_type": "stream",
     "text": [
      "MergeText : 27Mon3nkey5h-o \n",
      "BytePassword :  b'27Mon3nkey5h-o' \n",
      "Cipher_Password {'ciphertext': b'e403122c143531c4b6c175c0524a', 'aesIV': b'cf45d1e904413530074cbe3a5f301cd1', 'authTag': b'79acf01d945fca17fc0de307e724752a'}\n"
     ]
    }
   ],
   "source": [
    "##Client Side\n",
    "MergeText = mergeText(password,HexText)\n",
    "BytePassword = MergeText.encode('utf-8')\n",
    "Cipher_Password = encrypt_AES_GCM(BytePassword)\n",
    "print('MergeText :', MergeText ,'\\nBytePassword : ',BytePassword, \"\\nCipher_Password\", {\n",
    "    'ciphertext': binascii.hexlify(Cipher_Password[0]),\n",
    "    'aesIV': binascii.hexlify(Cipher_Password[1]),\n",
    "    'authTag': binascii.hexlify(Cipher_Password[2])\n",
    "})\n",
    "#Client Side shares with Server side the encryptedMsg"
   ]
  },
  {
   "cell_type": "markdown",
   "id": "518ed2b0",
   "metadata": {},
   "source": [
    "## Authentication"
   ]
  },
  {
   "cell_type": "code",
   "execution_count": 16,
   "id": "a61d9cde",
   "metadata": {},
   "outputs": [
    {
     "name": "stdout",
     "output_type": "stream",
     "text": [
      "IndexText :  [0, 1, 5, 6, 10, 11] \n",
      "BytePassword : b'27Mon3nkey5h-o' \n",
      "HexText :  273n5ho \n",
      "PassText :  Monkey\n",
      "HexNum :  273a5fd \n",
      "CipTextServer :  41133565\n"
     ]
    }
   ],
   "source": [
    "Cipher_Password = Cipher_Password\n",
    "IndexText = IndexText\n",
    "BytePassword  = decrypt_AES_GCM(Cipher_Password)\n",
    "HexText, PassText =  Hex_Pass(BytePassword,IndexText)\n",
    "HexNum = hexNum(HexText,IndexText)\n",
    "CipTextServer = int(HexNum,16)\n",
    "print('IndexText : ',IndexText, \"\\nBytePassword :\", BytePassword, '\\nHexText : ',HexText, '\\nPassText : ', PassText)\n",
    "print('HexNum : ', HexNum, '\\nCipTextServer : ',CipTextServer)\n",
    "\n"
   ]
  },
  {
   "cell_type": "code",
   "execution_count": null,
   "id": "80d4eea7",
   "metadata": {},
   "outputs": [],
   "source": []
  },
  {
   "cell_type": "markdown",
   "id": "8282c3b4",
   "metadata": {},
   "source": [
    "## Test 2"
   ]
  },
  {
   "cell_type": "code",
   "execution_count": 17,
   "id": "09c89685",
   "metadata": {},
   "outputs": [
    {
     "name": "stdout",
     "output_type": "stream",
     "text": [
      "secretNo: 79647815 \n",
      "cipText : 1712965 \n",
      "HexNum : 1a2345 \n",
      "HexText : 1n2345\n",
      "MergeText : 1nMon23key45- \n",
      "BytePassword :  b'1nMon23key45-' \n",
      "Cipher_Password {'ciphertext': b'cde4b00c147034ea8c0f6f2612', 'aesIV': b'e10f84cfd9d7a9c1c479471fca6f7d31', 'authTag': b'd48988adca478620823905fe3cbbc80d'}\n",
      "IndexText :  [0, 1, 5, 6, 10, 11] \n",
      "BytePassword : b'1nMon23key45-' \n",
      "HexText :  1n2345 \n",
      "PassText :  Monkey\n",
      "HexNum :  1a2345 \n",
      "CipTextServer :  1712965\n"
     ]
    }
   ],
   "source": [
    "#Server Side  \n",
    "prime,PrimitivePrime = Prime_PrimitivePrime(start)\n",
    "secretNo = secretNum()\n",
    "server = (PrimitivePrime**int(secretNo))%prime\n",
    "cipText = (server**int(NumText))%prime\n",
    "#Server Side shares with Client open the prime, PrimitivePrime and server\n",
    "##Client Side\n",
    "client = (PrimitivePrime**int(NumText))%prime\n",
    "cipText = (server**int(NumText))%prime\n",
    "HexNum = hex(cipText)[2:]\n",
    "HexText = hexText(HexNum,IndexText)\n",
    "print(f\"secretNo: {secretNo} \\ncipText : {cipText} \\nHexNum : {HexNum} \\nHexText : {HexText}\")\n",
    "##Client Side\n",
    "MergeText = mergeText(password,HexText)\n",
    "BytePassword = MergeText.encode('utf-8')\n",
    "Cipher_Password = encrypt_AES_GCM(BytePassword)\n",
    "print('MergeText :', MergeText ,'\\nBytePassword : ',BytePassword, \"\\nCipher_Password\", {\n",
    "    'ciphertext': binascii.hexlify(Cipher_Password[0]),\n",
    "    'aesIV': binascii.hexlify(Cipher_Password[1]),\n",
    "    'authTag': binascii.hexlify(Cipher_Password[2])\n",
    "})\n",
    "#Client Side shares with Server side the encryptedMsg\n",
    "Cipher_Password = Cipher_Password\n",
    "IndexText = IndexText\n",
    "BytePassword  = decrypt_AES_GCM(Cipher_Password)\n",
    "HexText, PassText =  Hex_Pass(BytePassword,IndexText)\n",
    "HexNum = hexNum(HexText,IndexText)\n",
    "CipTextServer = int(HexNum,16)\n",
    "print('IndexText : ',IndexText, \"\\nBytePassword :\", BytePassword, '\\nHexText : ',HexText, '\\nPassText : ', PassText)\n",
    "print('HexNum : ', HexNum, '\\nCipTextServer : ',CipTextServer)\n"
   ]
  },
  {
   "cell_type": "code",
   "execution_count": null,
   "id": "57f71e32",
   "metadata": {},
   "outputs": [],
   "source": []
  },
  {
   "cell_type": "markdown",
   "id": "7b0c14fc",
   "metadata": {},
   "source": [
    "## Test 3"
   ]
  },
  {
   "cell_type": "code",
   "execution_count": 18,
   "id": "ea14d12b",
   "metadata": {},
   "outputs": [
    {
     "name": "stdout",
     "output_type": "stream",
     "text": [
      "secretNo: 25002225 \n",
      "cipText : 62794146 \n",
      "HexNum : 3be29a2 \n",
      "HexText : 3ss29t2\n",
      "MergeText : 3sMons2key9t-2 \n",
      "BytePassword :  b'3sMons2key9t-2' \n",
      "Cipher_Password {'ciphertext': b'c4f531df8c654382d3cf9ac4b1f6', 'aesIV': b'e496e68d82ca4623f3917129b4ceecff', 'authTag': b'0b8ea9fe1896c3a8e77fc13b04f76137'}\n",
      "IndexText :  [0, 1, 5, 6, 10, 11] \n",
      "BytePassword : b'3sMons2key9t-2' \n",
      "HexText :  3ss29t2 \n",
      "PassText :  Monkey\n",
      "HexNum :  3be29a2 \n",
      "CipTextServer :  62794146\n"
     ]
    }
   ],
   "source": [
    "#Server Side  \n",
    "prime,PrimitivePrime = Prime_PrimitivePrime(start)\n",
    "secretNo = secretNum()\n",
    "server = (PrimitivePrime**int(secretNo))%prime\n",
    "cipText = (server**int(NumText))%prime\n",
    "#Server Side shares with Client open the prime, PrimitivePrime and server\n",
    "##Client Side\n",
    "client = (PrimitivePrime**int(NumText))%prime\n",
    "cipText = (server**int(NumText))%prime\n",
    "HexNum = hex(cipText)[2:]\n",
    "HexText = hexText(HexNum,IndexText)\n",
    "print(f\"secretNo: {secretNo} \\ncipText : {cipText} \\nHexNum : {HexNum} \\nHexText : {HexText}\")\n",
    "##Client Side\n",
    "MergeText = mergeText(password,HexText)\n",
    "BytePassword = MergeText.encode('utf-8')\n",
    "Cipher_Password = encrypt_AES_GCM(BytePassword)\n",
    "print('MergeText :', MergeText ,'\\nBytePassword : ',BytePassword, \"\\nCipher_Password\", {\n",
    "    'ciphertext': binascii.hexlify(Cipher_Password[0]),\n",
    "    'aesIV': binascii.hexlify(Cipher_Password[1]),\n",
    "    'authTag': binascii.hexlify(Cipher_Password[2])\n",
    "})\n",
    "#Client Side shares with Server side the encryptedMsg\n",
    "Cipher_Password = Cipher_Password\n",
    "IndexText = IndexText\n",
    "BytePassword  = decrypt_AES_GCM(Cipher_Password)\n",
    "HexText, PassText =  Hex_Pass(BytePassword,IndexText)\n",
    "HexNum = hexNum(HexText,IndexText)\n",
    "CipTextServer = int(HexNum,16)\n",
    "print('IndexText : ',IndexText, \"\\nBytePassword :\", BytePassword, '\\nHexText : ',HexText, '\\nPassText : ', PassText)\n",
    "print('HexNum : ', HexNum, '\\nCipTextServer : ',CipTextServer)\n"
   ]
  },
  {
   "cell_type": "code",
   "execution_count": null,
   "id": "db7baca5",
   "metadata": {},
   "outputs": [],
   "source": []
  },
  {
   "cell_type": "markdown",
   "id": "60a3cc6f",
   "metadata": {},
   "source": [
    "## Test 4"
   ]
  },
  {
   "cell_type": "code",
   "execution_count": 19,
   "id": "f1c0af1d",
   "metadata": {},
   "outputs": [
    {
     "name": "stdout",
     "output_type": "stream",
     "text": [
      "secretNo: 86882215 \n",
      "cipText : 28108615 \n",
      "HexNum : 1ace747 \n",
      "HexText : 1non747\n",
      "MergeText : 1nMononkey74-7 \n",
      "BytePassword :  b'1nMononkey74-7' \n",
      "Cipher_Password {'ciphertext': b'a6b8f943ce466abeea5404583f42', 'aesIV': b'fd5d23ed3d85f629b2fc611b7511b298', 'authTag': b'85c45a95a1e16c3f413577d59a4c98b4'}\n",
      "IndexText :  [0, 1, 5, 6, 10, 11] \n",
      "BytePassword : b'1nMononkey74-7' \n",
      "HexText :  1non747 \n",
      "PassText :  Monkey\n",
      "HexNum :  1ace747 \n",
      "CipTextServer :  28108615\n"
     ]
    }
   ],
   "source": [
    "#Server Side  \n",
    "prime,PrimitivePrime = Prime_PrimitivePrime(start)\n",
    "secretNo = secretNum()\n",
    "server = (PrimitivePrime**int(secretNo))%prime\n",
    "cipText = (server**int(NumText))%prime\n",
    "#Server Side shares with Client open the prime, PrimitivePrime and server\n",
    "##Client Side\n",
    "client = (PrimitivePrime**int(NumText))%prime\n",
    "cipText = (server**int(NumText))%prime\n",
    "HexNum = hex(cipText)[2:]\n",
    "HexText = hexText(HexNum,IndexText)\n",
    "print(f\"secretNo: {secretNo} \\ncipText : {cipText} \\nHexNum : {HexNum} \\nHexText : {HexText}\")\n",
    "##Client Side\n",
    "MergeText = mergeText(password,HexText)\n",
    "BytePassword = MergeText.encode('utf-8')\n",
    "Cipher_Password = encrypt_AES_GCM(BytePassword)\n",
    "print('MergeText :', MergeText ,'\\nBytePassword : ',BytePassword, \"\\nCipher_Password\", {\n",
    "    'ciphertext': binascii.hexlify(Cipher_Password[0]),\n",
    "    'aesIV': binascii.hexlify(Cipher_Password[1]),\n",
    "    'authTag': binascii.hexlify(Cipher_Password[2])\n",
    "})\n",
    "#Client Side shares with Server side the encryptedMsg\n",
    "Cipher_Password = Cipher_Password\n",
    "IndexText = IndexText\n",
    "BytePassword  = decrypt_AES_GCM(Cipher_Password)\n",
    "HexText, PassText =  Hex_Pass(BytePassword,IndexText)\n",
    "HexNum = hexNum(HexText,IndexText)\n",
    "CipTextServer = int(HexNum,16)\n",
    "print('IndexText : ',IndexText, \"\\nBytePassword :\", BytePassword, '\\nHexText : ',HexText, '\\nPassText : ', PassText)\n",
    "print('HexNum : ', HexNum, '\\nCipTextServer : ',CipTextServer)\n"
   ]
  },
  {
   "cell_type": "code",
   "execution_count": null,
   "id": "4e56b140",
   "metadata": {},
   "outputs": [],
   "source": []
  },
  {
   "cell_type": "markdown",
   "id": "acba34cd",
   "metadata": {},
   "source": [
    "## Test 5"
   ]
  },
  {
   "cell_type": "code",
   "execution_count": 20,
   "id": "0f26cd28",
   "metadata": {},
   "outputs": [
    {
     "name": "stdout",
     "output_type": "stream",
     "text": [
      "secretNo: 13760543 \n",
      "cipText : 22218050 \n",
      "HexNum : 1530542 \n",
      "HexText : 1530542\n",
      "MergeText : 15Mon30key54-2 \n",
      "BytePassword :  b'15Mon30key54-2' \n",
      "Cipher_Password {'ciphertext': b'f95d736632f360095e0608c30132', 'aesIV': b'f28917ef5db96f8317dd3a425d42dc30', 'authTag': b'cab05163149d2a5beae9374a685673bb'}\n",
      "IndexText :  [0, 1, 5, 6, 10, 11] \n",
      "BytePassword : b'15Mon30key54-2' \n",
      "HexText :  1530542 \n",
      "PassText :  Monkey\n",
      "HexNum :  1530542 \n",
      "CipTextServer :  22218050\n"
     ]
    }
   ],
   "source": [
    "#Server Side  \n",
    "prime,PrimitivePrime = Prime_PrimitivePrime(start)\n",
    "secretNo = secretNum()\n",
    "server = (PrimitivePrime**int(secretNo))%prime\n",
    "cipText = (server**int(NumText))%prime\n",
    "#Server Side shares with Client open the prime, PrimitivePrime and server\n",
    "##Client Side\n",
    "client = (PrimitivePrime**int(NumText))%prime\n",
    "cipText = (server**int(NumText))%prime\n",
    "HexNum = hex(cipText)[2:]\n",
    "HexText = hexText(HexNum,IndexText)\n",
    "print(f\"secretNo: {secretNo} \\ncipText : {cipText} \\nHexNum : {HexNum} \\nHexText : {HexText}\")\n",
    "##Client Side\n",
    "MergeText = mergeText(password,HexText)\n",
    "BytePassword = MergeText.encode('utf-8')\n",
    "Cipher_Password = encrypt_AES_GCM(BytePassword)\n",
    "print('MergeText :', MergeText ,'\\nBytePassword : ',BytePassword, \"\\nCipher_Password\", {\n",
    "    'ciphertext': binascii.hexlify(Cipher_Password[0]),\n",
    "    'aesIV': binascii.hexlify(Cipher_Password[1]),\n",
    "    'authTag': binascii.hexlify(Cipher_Password[2])\n",
    "})\n",
    "#Client Side shares with Server side the encryptedMsg\n",
    "Cipher_Password = Cipher_Password\n",
    "IndexText = IndexText\n",
    "BytePassword  = decrypt_AES_GCM(Cipher_Password)\n",
    "HexText, PassText =  Hex_Pass(BytePassword,IndexText)\n",
    "HexNum = hexNum(HexText,IndexText)\n",
    "CipTextServer = int(HexNum,16)\n",
    "print('IndexText : ',IndexText, \"\\nBytePassword :\", BytePassword, '\\nHexText : ',HexText, '\\nPassText : ', PassText)\n",
    "print('HexNum : ', HexNum, '\\nCipTextServer : ',CipTextServer)\n"
   ]
  },
  {
   "cell_type": "code",
   "execution_count": null,
   "id": "4434137b",
   "metadata": {},
   "outputs": [],
   "source": []
  },
  {
   "cell_type": "code",
   "execution_count": null,
   "id": "a287caae",
   "metadata": {},
   "outputs": [],
   "source": []
  }
 ],
 "metadata": {
  "kernelspec": {
   "display_name": "Python 3 (ipykernel)",
   "language": "python",
   "name": "python3"
  },
  "language_info": {
   "codemirror_mode": {
    "name": "ipython",
    "version": 3
   },
   "file_extension": ".py",
   "mimetype": "text/x-python",
   "name": "python",
   "nbconvert_exporter": "python",
   "pygments_lexer": "ipython3",
   "version": "3.11.4"
  }
 },
 "nbformat": 4,
 "nbformat_minor": 5
}
