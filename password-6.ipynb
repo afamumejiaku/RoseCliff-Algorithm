{
 "cells": [
  {
   "cell_type": "code",
   "execution_count": 1,
   "id": "b1b879ad",
   "metadata": {},
   "outputs": [],
   "source": [
    "#pip install pycryptodome"
   ]
  },
  {
   "cell_type": "code",
   "execution_count": 2,
   "id": "4bee6d0e",
   "metadata": {},
   "outputs": [],
   "source": [
    "import math\n",
    "import numpy\n",
    "def atkin(nmax):\n",
    "    \"\"\"\n",
    "    Returns a list of prime numbers below the number \"nmax\"\n",
    "    \"\"\"\n",
    "    is_prime = dict([(i, False) for i in range(5, nmax+1)])\n",
    "    for x in range(1, int(math.sqrt(nmax))+1):\n",
    "        for y in range(1, int(math.sqrt(nmax))+1):\n",
    "            n = 4*x**2 + y**2\n",
    "            if (n <= nmax) and ((n % 12 == 1) or (n % 12 == 5)):\n",
    "                is_prime[n] = not is_prime[n]\n",
    "            n = 3*x**2 + y**2\n",
    "            if (n <= nmax) and (n % 12 == 7):\n",
    "                is_prime[n] = not is_prime[n]\n",
    "            n = 3*x**2 - y**2\n",
    "            if (x > y) and (n <= nmax) and (n % 12 == 11):\n",
    "                is_prime[n] = not is_prime[n]\n",
    "    for n in range(5, int(math.sqrt(nmax))+1):\n",
    "        if is_prime[n]:\n",
    "            ik = 1\n",
    "            while (ik * n**2 <= nmax):\n",
    "                is_prime[ik * n**2] = False\n",
    "                ik += 1\n",
    "    primes = []\n",
    "    for i in range(nmax + 1):\n",
    "        if i in [0, 1, 4]: pass\n",
    "        elif i in [2,3] or is_prime[i]: primes.append(i)\n",
    "        else: pass\n",
    "    return primes\n",
    "\n"
   ]
  },
  {
   "cell_type": "code",
   "execution_count": 3,
   "id": "c1120f86",
   "metadata": {},
   "outputs": [],
   "source": [
    "# Python3 program to find primitive root of a given number n \n",
    "from math import sqrt\n",
    "\n",
    "# Returns True if n is prime \n",
    "def isPrime( n): \n",
    "\n",
    "\t# Corner cases \n",
    "\tif (n <= 1):\n",
    "\t\treturn False\n",
    "\tif (n <= 3):\n",
    "\t\treturn True\n",
    "\n",
    "\t# This is checked so that we can skip \n",
    "\t# middle five numbers in below loop \n",
    "\tif (n % 2 == 0 or n % 3 == 0):\n",
    "\t\treturn False\n",
    "\ti = 5\n",
    "\twhile(i * i <= n):\n",
    "\t\tif (n % i == 0 or n % (i + 2) == 0) :\n",
    "\t\t\treturn False\n",
    "\t\ti = i + 6\n",
    "\n",
    "\treturn True\n",
    "\n",
    "\"\"\" Iterative Function to calculate (x^n)%p in O(logy) */\"\"\"\n",
    "def power( x, y, p): \n",
    "\n",
    "\tres = 1 # Initialize result \n",
    "\n",
    "\tx = x % p # Update x if it is more \n",
    "\t\t\t# than or equal to p \n",
    "\n",
    "\twhile (y > 0): # If y is odd, multiply x with result \n",
    "\t\tif (y & 1):\n",
    "\t\t\tres = (res * x) % p \n",
    "\t\t# y must be even now \n",
    "\t\ty = y >> 1 # y = y/2 \n",
    "\t\tx = (x * x) % p \n",
    "\treturn res \n",
    "\n",
    "# Utility function to store prime\n",
    "# factors of a number \n",
    "def findPrimefactors(s, n) :\n",
    "\n",
    "\t# Print the number of 2s that divide n \n",
    "\twhile (n % 2 == 0) :\n",
    "\t\ts.add(2) \n",
    "\t\tn = n // 2\n",
    "\n",
    "\t# n must be odd at this point. So we can \n",
    "\t# skip one element (Note i = i +2) \n",
    "\tfor i in range(3, int(sqrt(n)), 2):\n",
    "\t\t\n",
    "\t\t# While i divides n, print i and divide n \n",
    "\t\twhile (n % i == 0) :\n",
    "\n",
    "\t\t\ts.add(i) \n",
    "\t\t\tn = n // i \n",
    "\t\t\n",
    "\t# This condition is to handle the case \n",
    "\t# when n is a prime number greater than 2 \n",
    "\tif (n > 2) :\n",
    "\t\ts.add(n) \n",
    "\n",
    "# Function to find smallest primitive \n",
    "# root of n \n",
    "def findPrimitive( n) :\n",
    "\ts = set() \n",
    "\n",
    "\t# Check if n is prime or not \n",
    "\t#if (isPrime(n) == False): \n",
    "\t#\treturn -1\n",
    "\n",
    "\t# Find value of Euler Totient function \n",
    "\t# of n. Since n is a prime number, the \n",
    "\t# value of Euler Totient function is n-1 \n",
    "\t# as there are n-1 relatively prime numbers.\n",
    "\tphi = n - 1\n",
    "\n",
    "\t# Find prime factors of phi and store in a set \n",
    "\tfindPrimefactors(s, phi) \n",
    "\n",
    "\t# Check for every number from 2 to phi \n",
    "\tfor r in range(2, phi + 1): \n",
    "\n",
    "\t\t# Iterate through all prime factors of phi. \n",
    "\t\t# and check if we found a power with value 1 \n",
    "\t\tflag = False\n",
    "\t\tfor it in s: \n",
    "\n",
    "\t\t\t# Check if r^((phi)/primefactors)\n",
    "\t\t\t# mod n is 1 or not \n",
    "\t\t\tif (power(r, phi // it, n) == 1): \n",
    "\n",
    "\t\t\t\tflag = True\n",
    "\t\t\t\tbreak\n",
    "\t\t\t\n",
    "\t\t# If there was no power with value 1. \n",
    "\t\tif (flag == False):\n",
    "\t\t\treturn r \n",
    "\t# If no primitive root found \n",
    "\treturn -1"
   ]
  },
  {
   "cell_type": "code",
   "execution_count": 4,
   "id": "4041f9be",
   "metadata": {},
   "outputs": [],
   "source": [
    "def Split():\n",
    "    password = input('Please Enter your password : ')\n",
    "    NumText = ''\n",
    "    IndexText = []\n",
    "    PassText = ''\n",
    "    count = 0\n",
    "    for char in password:\n",
    "        try:\n",
    "            a = int(char)\n",
    "            NumText = NumText + str(a)\n",
    "            IndexText.append(count)\n",
    "        except:\n",
    "            PassText += char\n",
    "        count +=1 \n",
    "    return(NumText,IndexText,PassText,password)"
   ]
  },
  {
   "cell_type": "code",
   "execution_count": 5,
   "id": "40a64c77",
   "metadata": {},
   "outputs": [],
   "source": [
    "global start\n",
    "start = 0\n",
    "def Prime_PrimitivePrime(start):\n",
    "    import numpy as np\n",
    "    if(start == 0):\n",
    "        primeNumbers = atkin(100000000)\n",
    "    start += 1\n",
    "    selected_Primes = primeNumbers[-1000000:-1] #selected prime numbers\n",
    "    randomNo = np.random.randint(0,999999)\n",
    "    prime = selected_Primes[randomNo]\n",
    "    PrimitivePrime = findPrimitive(prime)\n",
    "    return(prime,PrimitivePrime)"
   ]
  },
  {
   "cell_type": "code",
   "execution_count": 6,
   "id": "f31391aa",
   "metadata": {},
   "outputs": [],
   "source": [
    "def secretNum():\n",
    "    import numpy as np\n",
    "    secretNo = np.random.randint(10000000,99999999)\n",
    "    return(secretNo)"
   ]
  },
  {
   "cell_type": "code",
   "execution_count": 7,
   "id": "ca1ce7f3",
   "metadata": {},
   "outputs": [],
   "source": [
    "def hexText(HexNum,IndexText):\n",
    "    original = ['a','b','c','d','e','f']\n",
    "    hashing = ['e','t','a', 'i', 'o', 'n', 's', 'h', 'r']\n",
    "    Hash = str(abs(hash(tuple(IndexText))))\n",
    "    count = 0\n",
    "    HexText = ''\n",
    "    for tex in range(len(HexNum)):\n",
    "        if HexNum[tex] in original:\n",
    "            value = ((original.index(HexNum[tex])+int(Hash[count])))%9\n",
    "            count +=  1\n",
    "            HexText += hashing[value]\n",
    "        else:\n",
    "            HexText +=HexNum[tex]\n",
    "    return(HexText)"
   ]
  },
  {
   "cell_type": "code",
   "execution_count": 8,
   "id": "f84410c4",
   "metadata": {},
   "outputs": [],
   "source": [
    "def mergeText(password,HexText):\n",
    "    Merge_Text = ''\n",
    "    count = 0\n",
    "    for char in password:\n",
    "        try:\n",
    "            int(char)\n",
    "            Merge_Text+= HexText[count]\n",
    "            count+=1\n",
    "        except:\n",
    "            Merge_Text+=char\n",
    "    Merge_Text+= '-' + HexText[count:]\n",
    "    return(Merge_Text)"
   ]
  },
  {
   "cell_type": "code",
   "execution_count": 9,
   "id": "3ffb8113",
   "metadata": {},
   "outputs": [],
   "source": [
    "from Crypto.Cipher import AES\n",
    "import binascii, os\n",
    "secretKey = os.urandom(32)  # 256-bit random encryption key\n",
    "#print(\"Encryption key:\", binascii.hexlify(secretKey))\n",
    "def encrypt_AES_GCM(msg, secretKey=secretKey):\n",
    "    aesCipher = AES.new(secretKey, AES.MODE_GCM)\n",
    "    ciphertext, authTag = aesCipher.encrypt_and_digest(msg)\n",
    "    return (ciphertext, aesCipher.nonce, authTag)\n",
    "\n",
    "def decrypt_AES_GCM(encryptedMsg, secretKey=secretKey):\n",
    "    (ciphertext, nonce, authTag) = encryptedMsg\n",
    "    aesCipher = AES.new(secretKey, AES.MODE_GCM, nonce)\n",
    "    plaintext = aesCipher.decrypt_and_verify(ciphertext, authTag)\n",
    "    return plaintext"
   ]
  },
  {
   "cell_type": "code",
   "execution_count": 10,
   "id": "84dac26a",
   "metadata": {},
   "outputs": [],
   "source": [
    "def Hex_Pass(BytePassword,IndexText):\n",
    "    HexText = ''\n",
    "    PassText = ''\n",
    "    indexTextPos = 0\n",
    "    Enc_Password = BytePassword.decode()\n",
    "    StrPassword, EndPassword = Enc_Password.split('-')\n",
    "    for pos in range(len(StrPassword)):\n",
    "        if(pos==IndexText[indexTextPos]):\n",
    "            HexText += StrPassword[pos]\n",
    "            if(indexTextPos<(len(IndexText)-1)):\n",
    "                indexTextPos += 1\n",
    "        else:\n",
    "            PassText += StrPassword[pos]\n",
    "    HexText+=EndPassword\n",
    "    return(HexText,PassText)                 "
   ]
  },
  {
   "cell_type": "code",
   "execution_count": 11,
   "id": "e2e640b5",
   "metadata": {},
   "outputs": [],
   "source": [
    "def hexNum(HexText,IndexText):\n",
    "    original = ['a','b','c','d','e','f']\n",
    "    hashing = ['e','t','a', 'i', 'o', 'n', 's', 'h', 'r']\n",
    "    Hash = str(abs(hash(tuple(IndexText))))\n",
    "    count = 0\n",
    "    HexNum = ''\n",
    "    for tex in range(len(HexText)):\n",
    "        if HexText[tex] in hashing:\n",
    "            value = (hashing.index(HexText[tex])-int(Hash[count]))\n",
    "            if(value<0):\n",
    "                value = value + 9\n",
    "            count +=  1\n",
    "            HexNum  += original[value] \n",
    "        else:\n",
    "            HexNum +=HexText[tex]\n",
    "    return(HexNum) "
   ]
  },
  {
   "cell_type": "markdown",
   "id": "26e9bd73",
   "metadata": {},
   "source": [
    "## Split Text"
   ]
  },
  {
   "cell_type": "code",
   "execution_count": 12,
   "id": "10df45cd",
   "metadata": {},
   "outputs": [
    {
     "name": "stdout",
     "output_type": "stream",
     "text": [
      "Please Enter your password : I1Love2you3\n",
      "NumText : 123 \n",
      "IndexText : [1, 6, 10]  \n",
      "PassText : ILoveyou\n"
     ]
    }
   ],
   "source": [
    "##Client Side\n",
    "NumText,IndexText,PassText,password = Split()\n",
    "print(f\"NumText : {NumText} \\nIndexText : {IndexText}  \\nPassText : {PassText}\")"
   ]
  },
  {
   "cell_type": "markdown",
   "id": "62e63523",
   "metadata": {},
   "source": [
    "## Randomizer"
   ]
  },
  {
   "cell_type": "code",
   "execution_count": 13,
   "id": "0b1aa3d6",
   "metadata": {},
   "outputs": [],
   "source": [
    "#Server Side  \n",
    "prime,PrimitivePrime = Prime_PrimitivePrime(start)\n",
    "secretNo = secretNum()\n",
    "server = (PrimitivePrime**int(secretNo))%prime\n",
    "cipText = (server**int(NumText))%prime\n",
    "#Server Side shares with Client open the prime, PrimitivePrime and server"
   ]
  },
  {
   "cell_type": "code",
   "execution_count": 14,
   "id": "cef55b8a",
   "metadata": {},
   "outputs": [
    {
     "name": "stdout",
     "output_type": "stream",
     "text": [
      "secretNo: 79511768 \n",
      "cipText : 13409664 \n",
      "HexNum : cc9d80 \n",
      "HexText : tt9r80\n"
     ]
    }
   ],
   "source": [
    "##Client Side\n",
    "client = (PrimitivePrime**int(NumText))%prime\n",
    "cipText = (server**int(NumText))%prime\n",
    "HexNum = hex(cipText)[2:]\n",
    "HexText = hexText(HexNum,IndexText)\n",
    "print(f\"secretNo: {secretNo} \\ncipText : {cipText} \\nHexNum : {HexNum} \\nHexText : {HexText}\")"
   ]
  },
  {
   "cell_type": "markdown",
   "id": "fd743c16",
   "metadata": {},
   "source": [
    "##  Dynamic Password ciphertext generation"
   ]
  },
  {
   "cell_type": "code",
   "execution_count": 15,
   "id": "f57a93ce",
   "metadata": {},
   "outputs": [
    {
     "name": "stdout",
     "output_type": "stream",
     "text": [
      "MergeText : ItLovetyou9-r80 \n",
      "BytePassword :  b'ItLovetyou9-r80' \n",
      "Cipher_Password {'ciphertext': b'bb95606ad4fd22f3ed5450c6e25bf6', 'aesIV': b'17424a13320441b015a723ca6b81d3de', 'authTag': b'f7be8db5e2a8183a501396a27461440f'}\n"
     ]
    }
   ],
   "source": [
    "##Client Side\n",
    "MergeText = mergeText(password,HexText)\n",
    "BytePassword = MergeText.encode('utf-8')\n",
    "Cipher_Password = encrypt_AES_GCM(BytePassword)\n",
    "print('MergeText :', MergeText ,'\\nBytePassword : ',BytePassword, \"\\nCipher_Password\", {\n",
    "    'ciphertext': binascii.hexlify(Cipher_Password[0]),\n",
    "    'aesIV': binascii.hexlify(Cipher_Password[1]),\n",
    "    'authTag': binascii.hexlify(Cipher_Password[2])\n",
    "})\n",
    "#Client Side shares with Server side the encryptedMsg"
   ]
  },
  {
   "cell_type": "markdown",
   "id": "518ed2b0",
   "metadata": {},
   "source": [
    "## Authentication"
   ]
  },
  {
   "cell_type": "code",
   "execution_count": 16,
   "id": "a61d9cde",
   "metadata": {},
   "outputs": [
    {
     "name": "stdout",
     "output_type": "stream",
     "text": [
      "IndexText :  [1, 6, 10] \n",
      "BytePassword : b'ItLovetyou9-r80' \n",
      "HexText :  tt9r80 \n",
      "PassText :  ILoveyou\n",
      "HexNum :  cc9d80 \n",
      "CipTextServer :  13409664\n"
     ]
    }
   ],
   "source": [
    "Cipher_Password = Cipher_Password\n",
    "IndexText = IndexText\n",
    "BytePassword  = decrypt_AES_GCM(Cipher_Password)\n",
    "HexText, PassText =  Hex_Pass(BytePassword,IndexText)\n",
    "HexNum = hexNum(HexText,IndexText)\n",
    "CipTextServer = int(HexNum,16)\n",
    "print('IndexText : ',IndexText, \"\\nBytePassword :\", BytePassword, '\\nHexText : ',HexText, '\\nPassText : ', PassText)\n",
    "print('HexNum : ', HexNum, '\\nCipTextServer : ',CipTextServer)\n",
    "\n"
   ]
  },
  {
   "cell_type": "code",
   "execution_count": null,
   "id": "80d4eea7",
   "metadata": {},
   "outputs": [],
   "source": []
  },
  {
   "cell_type": "markdown",
   "id": "8282c3b4",
   "metadata": {},
   "source": [
    "## Test 2"
   ]
  },
  {
   "cell_type": "code",
   "execution_count": 17,
   "id": "09c89685",
   "metadata": {},
   "outputs": [
    {
     "name": "stdout",
     "output_type": "stream",
     "text": [
      "secretNo: 83912523 \n",
      "cipText : 19281739 \n",
      "HexNum : 126374b \n",
      "HexText : 126374e\n",
      "MergeText : I1Love2you6-374e \n",
      "BytePassword :  b'I1Love2you6-374e' \n",
      "Cipher_Password {'ciphertext': b'6c4afda7a35eb797d067d47634ee1cbc', 'aesIV': b'3b995cb875eff4b120d50c87c3134b70', 'authTag': b'46bc29325518f5d56be3f68b6b2960d8'}\n",
      "IndexText :  [1, 6, 10] \n",
      "BytePassword : b'I1Love2you6-374e' \n",
      "HexText :  126374e \n",
      "PassText :  ILoveyou\n",
      "HexNum :  126374b \n",
      "CipTextServer :  19281739\n"
     ]
    }
   ],
   "source": [
    "#Server Side  \n",
    "prime,PrimitivePrime = Prime_PrimitivePrime(start)\n",
    "secretNo = secretNum()\n",
    "server = (PrimitivePrime**int(secretNo))%prime\n",
    "cipText = (server**int(NumText))%prime\n",
    "#Server Side shares with Client open the prime, PrimitivePrime and server\n",
    "##Client Side\n",
    "client = (PrimitivePrime**int(NumText))%prime\n",
    "cipText = (server**int(NumText))%prime\n",
    "HexNum = hex(cipText)[2:]\n",
    "HexText = hexText(HexNum,IndexText)\n",
    "print(f\"secretNo: {secretNo} \\ncipText : {cipText} \\nHexNum : {HexNum} \\nHexText : {HexText}\")\n",
    "##Client Side\n",
    "MergeText = mergeText(password,HexText)\n",
    "BytePassword = MergeText.encode('utf-8')\n",
    "Cipher_Password = encrypt_AES_GCM(BytePassword)\n",
    "print('MergeText :', MergeText ,'\\nBytePassword : ',BytePassword, \"\\nCipher_Password\", {\n",
    "    'ciphertext': binascii.hexlify(Cipher_Password[0]),\n",
    "    'aesIV': binascii.hexlify(Cipher_Password[1]),\n",
    "    'authTag': binascii.hexlify(Cipher_Password[2])\n",
    "})\n",
    "#Client Side shares with Server side the encryptedMsg\n",
    "Cipher_Password = Cipher_Password\n",
    "IndexText = IndexText\n",
    "BytePassword  = decrypt_AES_GCM(Cipher_Password)\n",
    "HexText, PassText =  Hex_Pass(BytePassword,IndexText)\n",
    "HexNum = hexNum(HexText,IndexText)\n",
    "CipTextServer = int(HexNum,16)\n",
    "print('IndexText : ',IndexText, \"\\nBytePassword :\", BytePassword, '\\nHexText : ',HexText, '\\nPassText : ', PassText)\n",
    "print('HexNum : ', HexNum, '\\nCipTextServer : ',CipTextServer)\n"
   ]
  },
  {
   "cell_type": "code",
   "execution_count": null,
   "id": "57f71e32",
   "metadata": {},
   "outputs": [],
   "source": []
  },
  {
   "cell_type": "markdown",
   "id": "7b0c14fc",
   "metadata": {},
   "source": [
    "## Test 3"
   ]
  },
  {
   "cell_type": "code",
   "execution_count": 18,
   "id": "ea14d12b",
   "metadata": {},
   "outputs": [
    {
     "name": "stdout",
     "output_type": "stream",
     "text": [
      "secretNo: 35727822 \n",
      "cipText : 50758364 \n",
      "HexNum : 30682dc \n",
      "HexText : 30682at\n",
      "MergeText : I3Love0you6-82at \n",
      "BytePassword :  b'I3Love0you6-82at' \n",
      "Cipher_Password {'ciphertext': b'1d6a5f94e63aa7ab93cccc2796030bed', 'aesIV': b'5ccba685eb7f240480fb8b44f01a4e22', 'authTag': b'6b579e31f10f04fc82d63f39ef9f9cac'}\n",
      "IndexText :  [1, 6, 10] \n",
      "BytePassword : b'I3Love0you6-82at' \n",
      "HexText :  30682at \n",
      "PassText :  ILoveyou\n",
      "HexNum :  30682dc \n",
      "CipTextServer :  50758364\n"
     ]
    }
   ],
   "source": [
    "#Server Side  \n",
    "prime,PrimitivePrime = Prime_PrimitivePrime(start)\n",
    "secretNo = secretNum()\n",
    "server = (PrimitivePrime**int(secretNo))%prime\n",
    "cipText = (server**int(NumText))%prime\n",
    "#Server Side shares with Client open the prime, PrimitivePrime and server\n",
    "##Client Side\n",
    "client = (PrimitivePrime**int(NumText))%prime\n",
    "cipText = (server**int(NumText))%prime\n",
    "HexNum = hex(cipText)[2:]\n",
    "HexText = hexText(HexNum,IndexText)\n",
    "print(f\"secretNo: {secretNo} \\ncipText : {cipText} \\nHexNum : {HexNum} \\nHexText : {HexText}\")\n",
    "##Client Side\n",
    "MergeText = mergeText(password,HexText)\n",
    "BytePassword = MergeText.encode('utf-8')\n",
    "Cipher_Password = encrypt_AES_GCM(BytePassword)\n",
    "print('MergeText :', MergeText ,'\\nBytePassword : ',BytePassword, \"\\nCipher_Password\", {\n",
    "    'ciphertext': binascii.hexlify(Cipher_Password[0]),\n",
    "    'aesIV': binascii.hexlify(Cipher_Password[1]),\n",
    "    'authTag': binascii.hexlify(Cipher_Password[2])\n",
    "})\n",
    "#Client Side shares with Server side the encryptedMsg\n",
    "Cipher_Password = Cipher_Password\n",
    "IndexText = IndexText\n",
    "BytePassword  = decrypt_AES_GCM(Cipher_Password)\n",
    "HexText, PassText =  Hex_Pass(BytePassword,IndexText)\n",
    "HexNum = hexNum(HexText,IndexText)\n",
    "CipTextServer = int(HexNum,16)\n",
    "print('IndexText : ',IndexText, \"\\nBytePassword :\", BytePassword, '\\nHexText : ',HexText, '\\nPassText : ', PassText)\n",
    "print('HexNum : ', HexNum, '\\nCipTextServer : ',CipTextServer)\n"
   ]
  },
  {
   "cell_type": "code",
   "execution_count": null,
   "id": "db7baca5",
   "metadata": {},
   "outputs": [],
   "source": []
  },
  {
   "cell_type": "markdown",
   "id": "60a3cc6f",
   "metadata": {},
   "source": [
    "## Test 4"
   ]
  },
  {
   "cell_type": "code",
   "execution_count": 19,
   "id": "f1c0af1d",
   "metadata": {},
   "outputs": [
    {
     "name": "stdout",
     "output_type": "stream",
     "text": [
      "secretNo: 24137558 \n",
      "cipText : 18486715 \n",
      "HexNum : 11a15bb \n",
      "HexText : 11r15es\n",
      "MergeText : I1Love1your-15es \n",
      "BytePassword :  b'I1Love1your-15es' \n",
      "Cipher_Password {'ciphertext': b'6f8e25801213ee582991ce25131da04a', 'aesIV': b'14f5392f2c6d17651772a1d8de176459', 'authTag': b'e42f85f72ab5f6cf1a08871d2df4146d'}\n",
      "IndexText :  [1, 6, 10] \n",
      "BytePassword : b'I1Love1your-15es' \n",
      "HexText :  11r15es \n",
      "PassText :  ILoveyou\n",
      "HexNum :  11a15bb \n",
      "CipTextServer :  18486715\n"
     ]
    }
   ],
   "source": [
    "#Server Side  \n",
    "prime,PrimitivePrime = Prime_PrimitivePrime(start)\n",
    "secretNo = secretNum()\n",
    "server = (PrimitivePrime**int(secretNo))%prime\n",
    "cipText = (server**int(NumText))%prime\n",
    "#Server Side shares with Client open the prime, PrimitivePrime and server\n",
    "##Client Side\n",
    "client = (PrimitivePrime**int(NumText))%prime\n",
    "cipText = (server**int(NumText))%prime\n",
    "HexNum = hex(cipText)[2:]\n",
    "HexText = hexText(HexNum,IndexText)\n",
    "print(f\"secretNo: {secretNo} \\ncipText : {cipText} \\nHexNum : {HexNum} \\nHexText : {HexText}\")\n",
    "##Client Side\n",
    "MergeText = mergeText(password,HexText)\n",
    "BytePassword = MergeText.encode('utf-8')\n",
    "Cipher_Password = encrypt_AES_GCM(BytePassword)\n",
    "print('MergeText :', MergeText ,'\\nBytePassword : ',BytePassword, \"\\nCipher_Password\", {\n",
    "    'ciphertext': binascii.hexlify(Cipher_Password[0]),\n",
    "    'aesIV': binascii.hexlify(Cipher_Password[1]),\n",
    "    'authTag': binascii.hexlify(Cipher_Password[2])\n",
    "})\n",
    "#Client Side shares with Server side the encryptedMsg\n",
    "Cipher_Password = Cipher_Password\n",
    "IndexText = IndexText\n",
    "BytePassword  = decrypt_AES_GCM(Cipher_Password)\n",
    "HexText, PassText =  Hex_Pass(BytePassword,IndexText)\n",
    "HexNum = hexNum(HexText,IndexText)\n",
    "CipTextServer = int(HexNum,16)\n",
    "print('IndexText : ',IndexText, \"\\nBytePassword :\", BytePassword, '\\nHexText : ',HexText, '\\nPassText : ', PassText)\n",
    "print('HexNum : ', HexNum, '\\nCipTextServer : ',CipTextServer)\n"
   ]
  },
  {
   "cell_type": "code",
   "execution_count": null,
   "id": "4e56b140",
   "metadata": {},
   "outputs": [],
   "source": []
  },
  {
   "cell_type": "markdown",
   "id": "acba34cd",
   "metadata": {},
   "source": [
    "## Test 5"
   ]
  },
  {
   "cell_type": "code",
   "execution_count": 20,
   "id": "0f26cd28",
   "metadata": {},
   "outputs": [
    {
     "name": "stdout",
     "output_type": "stream",
     "text": [
      "secretNo: 60956218 \n",
      "cipText : 7713341 \n",
      "HexNum : 75b23d \n",
      "HexText : 75e23a\n",
      "MergeText : I7Love5youe-23a \n",
      "BytePassword :  b'I7Love5youe-23a' \n",
      "Cipher_Password {'ciphertext': b'9dd26405ce515966043ffc1de5a41e', 'aesIV': b'859e3ae013373c631b1d3295d2414c58', 'authTag': b'5cf214767f5d3aa3b1e70062b7457bb5'}\n",
      "IndexText :  [1, 6, 10] \n",
      "BytePassword : b'I7Love5youe-23a' \n",
      "HexText :  75e23a \n",
      "PassText :  ILoveyou\n",
      "HexNum :  75b23d \n",
      "CipTextServer :  7713341\n"
     ]
    }
   ],
   "source": [
    "#Server Side  \n",
    "prime,PrimitivePrime = Prime_PrimitivePrime(start)\n",
    "secretNo = secretNum()\n",
    "server = (PrimitivePrime**int(secretNo))%prime\n",
    "cipText = (server**int(NumText))%prime\n",
    "#Server Side shares with Client open the prime, PrimitivePrime and server\n",
    "##Client Side\n",
    "client = (PrimitivePrime**int(NumText))%prime\n",
    "cipText = (server**int(NumText))%prime\n",
    "HexNum = hex(cipText)[2:]\n",
    "HexText = hexText(HexNum,IndexText)\n",
    "print(f\"secretNo: {secretNo} \\ncipText : {cipText} \\nHexNum : {HexNum} \\nHexText : {HexText}\")\n",
    "##Client Side\n",
    "MergeText = mergeText(password,HexText)\n",
    "BytePassword = MergeText.encode('utf-8')\n",
    "Cipher_Password = encrypt_AES_GCM(BytePassword)\n",
    "print('MergeText :', MergeText ,'\\nBytePassword : ',BytePassword, \"\\nCipher_Password\", {\n",
    "    'ciphertext': binascii.hexlify(Cipher_Password[0]),\n",
    "    'aesIV': binascii.hexlify(Cipher_Password[1]),\n",
    "    'authTag': binascii.hexlify(Cipher_Password[2])\n",
    "})\n",
    "#Client Side shares with Server side the encryptedMsg\n",
    "Cipher_Password = Cipher_Password\n",
    "IndexText = IndexText\n",
    "BytePassword  = decrypt_AES_GCM(Cipher_Password)\n",
    "HexText, PassText =  Hex_Pass(BytePassword,IndexText)\n",
    "HexNum = hexNum(HexText,IndexText)\n",
    "CipTextServer = int(HexNum,16)\n",
    "print('IndexText : ',IndexText, \"\\nBytePassword :\", BytePassword, '\\nHexText : ',HexText, '\\nPassText : ', PassText)\n",
    "print('HexNum : ', HexNum, '\\nCipTextServer : ',CipTextServer)\n"
   ]
  },
  {
   "cell_type": "code",
   "execution_count": null,
   "id": "4434137b",
   "metadata": {},
   "outputs": [],
   "source": []
  },
  {
   "cell_type": "code",
   "execution_count": null,
   "id": "a287caae",
   "metadata": {},
   "outputs": [],
   "source": []
  }
 ],
 "metadata": {
  "kernelspec": {
   "display_name": "Python 3 (ipykernel)",
   "language": "python",
   "name": "python3"
  },
  "language_info": {
   "codemirror_mode": {
    "name": "ipython",
    "version": 3
   },
   "file_extension": ".py",
   "mimetype": "text/x-python",
   "name": "python",
   "nbconvert_exporter": "python",
   "pygments_lexer": "ipython3",
   "version": "3.11.4"
  }
 },
 "nbformat": 4,
 "nbformat_minor": 5
}
